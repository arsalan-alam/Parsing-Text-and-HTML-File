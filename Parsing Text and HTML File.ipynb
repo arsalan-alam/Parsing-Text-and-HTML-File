{
 "cells": [
  {
   "cell_type": "markdown",
   "metadata": {},
   "source": [
    "# Parsing .txt File / Reading Data from .txt File"
   ]
  },
  {
   "cell_type": "code",
   "execution_count": 1,
   "metadata": {},
   "outputs": [
    {
     "name": "stdout",
     "output_type": "stream",
     "text": [
      "================= DATA IN FILE =================\n",
      "\n",
      "Hello! Welcome to demofile.txt\n",
      "This file is for testing purposes.\n",
      "Good Luck!\n",
      "\n",
      "Hello! Welcome to demofile.txt\n",
      "This file is for testing purposes.\n",
      "Good Luck! \n",
      "\n",
      "================= RESULT =================\n",
      "\n",
      "Total Number of Words: 24\n",
      "Total Number of Lines: 7\n",
      "Total Number of Non-Spaces: 129\n",
      "Total Number of Spaces: 25\n",
      "Total Number of Tabs: 7\n",
      "Total Number of Paragraph: 2\n"
     ]
    }
   ],
   "source": [
    "f = open(\"test_file.txt\", \"r\")\n",
    "print(\"================= DATA IN FILE =================\\n\")\n",
    "print(f.read(), \"\\n\")\n",
    "f.close()\n",
    "\n",
    "words = lines = non_spaces = spaces = tabs = linecount = paragraphcount = 0\n",
    "empty = True\n",
    "with open(\"test_file.txt\", encoding ='utf8') as file:\n",
    "    for count in file:\n",
    "        words += len(count.split())\n",
    "        lines += len(count.split('\\n , \\n\\r, \\r'))\n",
    "        non_spaces += len(count) - len(count.split(' '))\n",
    "        spaces += len(count.split(' '))\n",
    "        tabs += len(count.split('\\t'))\n",
    "        \n",
    "        # Paragraph Count...\n",
    "        if '\\n' in count:\n",
    "            linecount += 1\n",
    "            if len(count) < 2:\n",
    "                empty = True\n",
    "            elif len(count) > 2 and empty is True:\n",
    "                paragraphcount = paragraphcount + 1\n",
    "                empty = False\n",
    "            if empty is True:\n",
    "                paragraphnumber = 0\n",
    "            else:\n",
    "                paragraphnumber = paragraphcount\n",
    "    print(\"================= RESULT =================\\n\")\n",
    "    print(\"Total Number of Words:\", words)\n",
    "    print(\"Total Number of Lines:\", lines)\n",
    "    print(\"Total Number of Non-Spaces:\", non_spaces)\n",
    "    print(\"Total Number of Spaces:\", spaces)\n",
    "    print(\"Total Number of Tabs:\", tabs)\n",
    "    print(\"Total Number of Paragraph:\", paragraphcount)"
   ]
  },
  {
   "cell_type": "markdown",
   "metadata": {},
   "source": [
    "# Parsing HTML File / Reading Data from HTML File"
   ]
  },
  {
   "cell_type": "code",
   "execution_count": 2,
   "metadata": {},
   "outputs": [
    {
     "name": "stdout",
     "output_type": "stream",
     "text": [
      "=================================== \n",
      "DATA IN HTML FILE... \n",
      "===================================\n",
      "\n",
      "<html>\n",
      " <head>\n",
      "  <title>\n",
      "   this is where the page title would go!\n",
      "  </title>\n",
      "  <style>\n",
      "   body {\n",
      "            background-color: #000000;\n",
      "            font-family: Helvetica, Arial, sans-serif;\n",
      "            font-size: 14px;\n",
      "            color: white;\n",
      "            }\n",
      "            h1 {\n",
      "            font-size: 2em;\n",
      "            }\n",
      "            a:hover {\n",
      "            color: #cccccc;\n",
      "            }\n",
      "            p {\n",
      "            color: blue;\n",
      "            }\n",
      "            .redtext {\n",
      "            color: red;\n",
      "            }\n",
      "            p.redtext {\n",
      "            width: 100px;\n",
      "            }\n",
      "  </style>\n",
      " </head>\n",
      " <body>\n",
      "  <h1>\n",
      "   a header!\n",
      "  </h1>\n",
      "  <p>\n",
      "   this is just a paragraph on the page\n",
      "  </p>\n",
      "  <p class=\"redtext\">\n",
      "   this is just another paragraph on the page\n",
      "  </p>\n",
      "  <p>\n",
      "   a third paragraph. insanity!\n",
      "   <a href=\"http://google.com\">\n",
      "    with a link!\n",
      "   </a>\n",
      "  </p>\n",
      " </body>\n",
      "</html>\n",
      "\n",
      "=================================== \n",
      "OUTPUT \n",
      "===================================\n",
      "\n",
      "TAGS:\n",
      "\n",
      "html\n",
      "head\n",
      "title\n",
      "style\n",
      "body\n",
      "h1\n",
      "p\n",
      "p\n",
      "p\n",
      "a\n",
      "\n",
      "Total Tags = 10\n"
     ]
    }
   ],
   "source": [
    "from bs4 import BeautifulSoup\n",
    "#Beautiful Soup is a Python package for parsing HTML and XML documents. \n",
    "#It creates a parse tree for parsed pages that can be used to extract data from HTML.\n",
    "\n",
    "with open(\"example_html_file.html\") as file:\n",
    "    soup = BeautifulSoup(file)\n",
    "print(\"=================================== \\nDATA IN HTML FILE... \\n===================================\\n\")\n",
    "print(soup.prettify())\n",
    "\n",
    "print(\"\\n=================================== \\nOUTPUT \\n===================================\\n\")\n",
    "count = 0\n",
    "print(\"TAGS:\\n\")\n",
    "for tag in soup.find_all(True):\n",
    "    print(tag.name)\n",
    "    count += 1\n",
    "print(\"\\nTotal Tags =\", count)"
   ]
  }
 ],
 "metadata": {
  "kernelspec": {
   "display_name": "Python 3",
   "language": "python",
   "name": "python3"
  },
  "language_info": {
   "codemirror_mode": {
    "name": "ipython",
    "version": 3
   },
   "file_extension": ".py",
   "mimetype": "text/x-python",
   "name": "python",
   "nbconvert_exporter": "python",
   "pygments_lexer": "ipython3",
   "version": "3.7.3"
  }
 },
 "nbformat": 4,
 "nbformat_minor": 2
}
